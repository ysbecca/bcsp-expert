{
 "cells": [
  {
   "cell_type": "markdown",
   "metadata": {},
   "source": [
    "# Auto-encoder\n",
    "\n",
    "Author @ysbecca\n",
    "\n",
    "First, pre-processing for segmentation:\n",
    "\n",
    "- sample patches (eventually experiment with different resolutions/sizes)\n",
    "- label patches as EM/C, SM, N (normal) in that order of priority based on annotated regions\n",
    "\n",
    "- rotational/mirrored augmentation\n",
    "- H&E realistic augmentation?"
   ]
  },
  {
   "cell_type": "code",
   "execution_count": 2,
   "metadata": {
    "collapsed": true
   },
   "outputs": [],
   "source": [
    "import tensorflow as tf\n",
    "import numpy as np\n",
    "import py_wsi\n",
    "import cnn_helper as cn"
   ]
  },
  {
   "cell_type": "markdown",
   "metadata": {
    "collapsed": true
   },
   "source": [
    "## Set network parameters"
   ]
  },
  {
   "cell_type": "code",
   "execution_count": null,
   "metadata": {
    "collapsed": true
   },
   "outputs": [],
   "source": []
  },
  {
   "cell_type": "code",
   "execution_count": null,
   "metadata": {
    "collapsed": true
   },
   "outputs": [],
   "source": [
    "def model(x_image_, y_true_):\n",
    "    # Encoder\n",
    "    model, _ = cn.new_conv_layer(input=x_image_,\n",
    "                                  num_input_channels=num_channels,\n",
    "                                  filter_size=filter_size,\n",
    "                                  num_filters=num_filters,\n",
    "                                  use_pooling=True,\n",
    "                                  max_pool_size=max_pool_size,\n",
    "                                  use_relu=True)\n",
    "    model, num_fc_features = cn.flatten_layer(model)\n",
    "    model, _ = cn.new_fc_layer(input=model,          \n",
    "                             num_inputs=num_fc_features,\n",
    "                             num_outputs=fc_size,\n",
    "                             use_relu=True)\n",
    "    model = tf.nn.dropout(model, keep_prob)\n",
    "    model, _ = cn.new_fc_layer(input=model,\n",
    "                             num_inputs=fc_size,\n",
    "                             num_outputs=num_classes,\n",
    "                             use_relu=True)\n",
    "\n",
    "    y_pred = tf.nn.softmax(model)\n",
    "    y_pred_cls = tf.argmax(model, dimension=1)\n",
    "    cost = tf.reduce_mean(tf.losses.softmax_cross_entropy(logits=model, onehot_labels=y_true_, weights=weights_))\n",
    "\n",
    "    # Outputs to be returned to CPU\n",
    "    return y_pred, y_pred_cls, cost\n"
   ]
  },
  {
   "cell_type": "code",
   "execution_count": null,
   "metadata": {
    "collapsed": true
   },
   "outputs": [],
   "source": []
  },
  {
   "cell_type": "code",
   "execution_count": null,
   "metadata": {
    "collapsed": true
   },
   "outputs": [],
   "source": []
  },
  {
   "cell_type": "code",
   "execution_count": null,
   "metadata": {
    "collapsed": true
   },
   "outputs": [],
   "source": []
  },
  {
   "cell_type": "code",
   "execution_count": null,
   "metadata": {
    "collapsed": true
   },
   "outputs": [],
   "source": []
  }
 ],
 "metadata": {
  "kernelspec": {
   "display_name": "Python 3",
   "language": "python",
   "name": "python3"
  },
  "language_info": {
   "codemirror_mode": {
    "name": "ipython",
    "version": 3
   },
   "file_extension": ".py",
   "mimetype": "text/x-python",
   "name": "python",
   "nbconvert_exporter": "python",
   "pygments_lexer": "ipython3",
   "version": "3.6.1"
  }
 },
 "nbformat": 4,
 "nbformat_minor": 2
}
