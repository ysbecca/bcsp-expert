{
 "cells": [
  {
   "cell_type": "markdown",
   "metadata": {},
   "source": [
    "## Visualising annotations\n",
    "\n",
    "Generates PNG files\n",
    "\n",
    "Author @ysbecca"
   ]
  },
  {
   "cell_type": "code",
   "execution_count": 24,
   "metadata": {
    "collapsed": true
   },
   "outputs": [],
   "source": [
    "import matplotlib.pyplot as plt\n",
    "import urllib.request\n",
    "from xml.dom import minidom\n",
    "import sys\n",
    "\n",
    "sys.path.insert(0, './scripts')\n",
    "\n",
    "import fetch_samples as fs\n",
    "import cv2\n",
    "import numpy as np\n",
    "import ysb\n",
    "import csv\n",
    "\n",
    "from PIL import Image"
   ]
  },
  {
   "cell_type": "code",
   "execution_count": 114,
   "metadata": {},
   "outputs": [
    {
     "name": "stdout",
     "output_type": "stream",
     "text": [
      "Found 50 cases.\n",
      "Found 50 image ids.\n"
     ]
    }
   ],
   "source": [
    "csv_path = \"/Users/ysbecca/ysbecca-projects/bcsp-expert/data/test_cases_only.csv\"\n",
    "cases = []\n",
    "\n",
    "with open(csv_path, 'r') as csv_file:\n",
    "        reader = csv.reader(csv_file, delimiter=' ', quotechar='|')\n",
    "        for row in reader:\n",
    "                cases.append(row[0])\n",
    "\n",
    "print(\"Found\", len(cases), \"cases.\")\n",
    "\n",
    "base_url = \"http://129.11.191.7/Research_4/Slide_Library/NHS_BCSP/Experts_Board/Case_\"\n",
    "csv_path = \"/Users/ysbecca/ysbecca-projects/bcsp-expert/test_annotations_roi/\"\n",
    "image_folder = \"/Users/ysbecca/ysbecca-projects/bcsp-expert/saved_images/\"\n",
    "\n",
    "image_id_path = \"/Users/ysbecca/ysbecca-projects/bcsp-expert/data/test_image_ids.csv\"\n",
    "image_ids = []\n",
    "with open(image_id_path, 'r') as csv_file:\n",
    "        reader = csv.reader(csv_file, delimiter=' ', quotechar='|')\n",
    "        for row in reader:\n",
    "                image_ids.append(row[0])\n",
    "\n",
    "print(\"Found\", len(image_ids), \"image ids.\")\n",
    "\n",
    "paths = []\n",
    "urls = []\n",
    "\n",
    "for i, image_id in enumerate(image_ids):\n",
    "    paths.append(csv_path + str(image_id) + \".xml\")\n",
    "    urls.append(base_url + cases[i] + \"/\" + str(image_id) + \".svs\")"
   ]
  },
  {
   "cell_type": "code",
   "execution_count": 115,
   "metadata": {},
   "outputs": [],
   "source": [
    "# Checking for match-up\n",
    "for i in range(len(paths)):\n",
    "    if paths[0][65:-4] != urls[0][79:-4]:\n",
    "        print(paths[i])\n",
    "        print(urls[i])"
   ]
  },
  {
   "cell_type": "code",
   "execution_count": null,
   "metadata": {},
   "outputs": [],
   "source": []
  },
  {
   "cell_type": "code",
   "execution_count": 116,
   "metadata": {},
   "outputs": [],
   "source": [
    "image_thumbs = []\n",
    "for url in urls:\n",
    "    image_thumbs.append(fs.fetch_thumbnail(url))"
   ]
  },
  {
   "cell_type": "code",
   "execution_count": 117,
   "metadata": {
    "collapsed": true
   },
   "outputs": [],
   "source": [
    "scales, x_y = [], []\n",
    "for i, image in enumerate(image_thumbs):\n",
    "    thumb_y, thumb_x, _ = np.shape(image)\n",
    "    x, y = fs.fetch_size(urls[i])\n",
    "    x_y.append((x, y))\n",
    "    scale_x = x / thumb_x\n",
    "    scale_y = y / thumb_y\n",
    "    scale = (scale_x + scale_y) / 2.0\n",
    "    scales.append(scale)"
   ]
  },
  {
   "cell_type": "code",
   "execution_count": 118,
   "metadata": {},
   "outputs": [
    {
     "data": {
      "text/plain": [
       "50"
      ]
     },
     "execution_count": 118,
     "metadata": {},
     "output_type": "execute_result"
    }
   ],
   "source": [
    "len(image_thumbs)"
   ]
  },
  {
   "cell_type": "markdown",
   "metadata": {},
   "source": [
    "Now parse the XML files."
   ]
  },
  {
   "cell_type": "code",
   "execution_count": 95,
   "metadata": {},
   "outputs": [],
   "source": [
    "image_coords = []\n",
    "errors = []\n",
    "error, error_ids = 0, []\n",
    "for i, path in enumerate(paths):\n",
    "    try:\n",
    "        xml = minidom.parse(path)\n",
    "    except:\n",
    "        errors.append(path)\n",
    "        error = 1\n",
    "        \n",
    "    if not error:\n",
    "        regions = xml.getElementsByTagName(\"Region\")\n",
    "\n",
    "        all_coords = []\n",
    "\n",
    "        for region in regions:\n",
    "            # key = region.getElementsByTagName(\"Attribute\")[0].attributes['Value'].value\n",
    "\n",
    "            vertices = region.getElementsByTagName(\"Vertex\")\n",
    "            coords = np.zeros((len(vertices), 2))\n",
    "\n",
    "            for i, vertex in enumerate(vertices):\n",
    "                coords[i][0] = vertex.attributes['X'].value\n",
    "                coords[i][1] = vertex.attributes['Y'].value\n",
    "            all_coords.append(coords)\n",
    "        image_coords.append(all_coords)\n",
    "    else:\n",
    "        error = 0 # Reset for next round\n",
    "        error_ids.append(i)\n",
    "        image_coords.append([])"
   ]
  },
  {
   "cell_type": "code",
   "execution_count": 99,
   "metadata": {},
   "outputs": [
    {
     "name": "stdout",
     "output_type": "stream",
     "text": [
      "['/Users/ysbecca/ysbecca-projects/bcsp-expert/test_annotations_roi/211808.xml'] [25]\n",
      "50\n",
      "50\n"
     ]
    },
    {
     "data": {
      "text/plain": [
       "[]"
      ]
     },
     "execution_count": 99,
     "metadata": {},
     "output_type": "execute_result"
    }
   ],
   "source": [
    "print(errors, error_ids)\n",
    "print(len(image_ids))\n",
    "print(len(image_coords))\n",
    "image_coords[25]"
   ]
  },
  {
   "cell_type": "code",
   "execution_count": 119,
   "metadata": {},
   "outputs": [
    {
     "name": "stdout",
     "output_type": "stream",
     "text": [
      "0 : 3\n",
      "1 : 9\n",
      "2 : 1\n",
      "3 : 2\n",
      "4 : 4\n",
      "5 : 7\n",
      "6 : 2\n",
      "7 : 2\n",
      "8 : 5\n",
      "9 : 10\n",
      "10 : 3\n",
      "11 : 4\n",
      "12 : 3\n",
      "13 : 7\n",
      "14 : 1\n",
      "15 : 3\n",
      "16 : 4\n",
      "17 : 4\n",
      "18 : 3\n",
      "19 : 4\n",
      "20 : 4\n",
      "21 : 4\n",
      "22 : 1\n",
      "23 : 4\n",
      "24 : 5\n",
      "25 : 0\n",
      "26 : 4\n",
      "27 : 2\n",
      "28 : 6\n",
      "29 : 4\n",
      "30 : 3\n",
      "31 : 3\n",
      "32 : 2\n",
      "33 : 6\n",
      "34 : 1\n",
      "35 : 5\n",
      "36 : 3\n",
      "37 : 4\n",
      "38 : 6\n",
      "39 : 5\n",
      "40 : 1\n",
      "41 : 4\n",
      "42 : 7\n",
      "43 : 4\n",
      "44 : 4\n",
      "45 : 3\n",
      "46 : 8\n",
      "47 : 7\n",
      "48 : 15\n",
      "49 : 19\n"
     ]
    }
   ],
   "source": [
    "ann_images = []\n",
    "for i in range(len(image_ids)):\n",
    "    annotated_image = np.copy(image_thumbs[i])\n",
    "    print(i, \":\", len(image_coords[i]))\n",
    "    if len(image_coords[i]) > 0:\n",
    "        for coords in image_coords[i]:\n",
    "            annotated_image = fs.draw_boundary(annotated_image, x_y[i], coords, scales[i])\n",
    "        ann_images.append(annotated_image)\n",
    "    else:\n",
    "        ann_images.append(image_thumbs[i])"
   ]
  },
  {
   "cell_type": "code",
   "execution_count": 120,
   "metadata": {},
   "outputs": [
    {
     "data": {
      "text/plain": [
       "50"
      ]
     },
     "execution_count": 120,
     "metadata": {},
     "output_type": "execute_result"
    }
   ],
   "source": [
    "len(ann_images)"
   ]
  },
  {
   "cell_type": "code",
   "execution_count": 122,
   "metadata": {
    "scrolled": false
   },
   "outputs": [],
   "source": [
    "for i in range(len(image_ids)):\n",
    "#     plt.figure(figsize=(17,22))\n",
    "#     plt.imshow(ann_image)\n",
    "#     plt.axis(\"off\")\n",
    "#     plt.show()\n",
    "#     plt.close()\n",
    "\n",
    "    im = Image.fromarray(ann_images[i])\n",
    "    im.save(image_folder + str(image_ids[i]) + \"_annotated.png\")"
   ]
  },
  {
   "cell_type": "code",
   "execution_count": 44,
   "metadata": {
    "collapsed": true
   },
   "outputs": [],
   "source": []
  },
  {
   "cell_type": "code",
   "execution_count": 47,
   "metadata": {
    "collapsed": true
   },
   "outputs": [],
   "source": []
  },
  {
   "cell_type": "code",
   "execution_count": null,
   "metadata": {
    "collapsed": true
   },
   "outputs": [],
   "source": []
  }
 ],
 "metadata": {
  "kernelspec": {
   "display_name": "Python 3",
   "language": "python",
   "name": "python3"
  },
  "language_info": {
   "codemirror_mode": {
    "name": "ipython",
    "version": 3
   },
   "file_extension": ".py",
   "mimetype": "text/x-python",
   "name": "python",
   "nbconvert_exporter": "python",
   "pygments_lexer": "ipython3",
   "version": "3.6.1"
  }
 },
 "nbformat": 4,
 "nbformat_minor": 2
}
