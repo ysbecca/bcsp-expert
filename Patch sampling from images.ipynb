{
 "cells": [
  {
   "cell_type": "markdown",
   "metadata": {},
   "source": [
    "# Patch sampling from WSI images\n",
    "\n",
    "Using selected cases for exploratory stage."
   ]
  },
  {
   "cell_type": "code",
   "execution_count": 19,
   "metadata": {
    "collapsed": true
   },
   "outputs": [],
   "source": [
    "import csv\n",
    "import h5py\n",
    "import numpy as np\n",
    "from openslide import open_slide  \n",
    "from openslide.deepzoom import DeepZoomGenerator\n",
    "from shapely.geometry import Polygon, Point\n",
    "from scipy.misc import imresize\n",
    "from PIL import Image\n",
    "import matplotlib.pyplot as plt\n",
    "\n",
    "import json\n",
    "import time\n",
    "from datetime import timedelta"
   ]
  },
  {
   "cell_type": "code",
   "execution_count": 7,
   "metadata": {
    "collapsed": true
   },
   "outputs": [],
   "source": [
    "# Helper timing functions.\n",
    "def start_timer():\n",
    "\treturn time.time()\n",
    "\n",
    "def end_timer(start_time):\n",
    "\tend_time = time.time()\n",
    "\tprint(\"Time usage: \" + str(timedelta(seconds=int(round(end_time - start_time)))))\n",
    "\n",
    "\n",
    "def show_labeled_patches(images, clss):\n",
    "    fig = plt.figure(figsize=(20, 10))\n",
    "    data = images[:50]\n",
    "    labels = clss[:50]\n",
    "\n",
    "    for i, image in enumerate(data):\n",
    "        plt.subplot(5, 10, i+1)\n",
    "        plt.imshow(image)\n",
    "        plt.title(str(labels[i]))\n",
    "        plt.axis(\"off\")\n",
    "\n",
    "    plt.show()"
   ]
  },
  {
   "cell_type": "markdown",
   "metadata": {},
   "source": [
    "Set directories for svs files and json annotations."
   ]
  },
  {
   "cell_type": "code",
   "execution_count": 18,
   "metadata": {
    "collapsed": true
   },
   "outputs": [],
   "source": [
    "img_dir = \"/Users/ysbecca/ysbecca-projects/bcsp-expert/data/wsi_samples/\"\n",
    "test_db_dir = \"/Users/ysbecca/ysbecca-projects/bcsp-expert/data/temp_db/\"\n",
    "json_dir = img_dir\n",
    "\n",
    "image_id = 101527\n",
    "single_img = img_dir + \"101527.svs\"\n",
    "\n",
    "\n",
    "patch_size = 128\n",
    "level = 13\n",
    "pixel_overlap = 0\n",
    "downsample_factor = 8\n",
    "\n",
    "new_patch_dim = int(patch_size / downsample_factor)\n",
    "\n",
    "annotation_downsample = 10 # Downsampling annotated regions for quickly labeling patches\n",
    "label_map = {\"EP\": 0,\n",
    "             \"SM\": 1,\n",
    "             \"U\": -1} # Unknown"
   ]
  },
  {
   "cell_type": "code",
   "execution_count": 9,
   "metadata": {
    "collapsed": true
   },
   "outputs": [],
   "source": [
    "def patch_to_tile_size(patch_size, overlap):\n",
    "    return patch_size - overlap*2"
   ]
  },
  {
   "cell_type": "code",
   "execution_count": 10,
   "metadata": {
    "collapsed": true
   },
   "outputs": [],
   "source": [
    "tile_size = patch_to_tile_size(patch_size, pixel_overlap)\n",
    "\n",
    "slide = open_slide(single_img) # .svs\n",
    "tiles = DeepZoomGenerator(slide, tile_size=tile_size, overlap=pixel_overlap, limit_bounds=True)"
   ]
  },
  {
   "cell_type": "code",
   "execution_count": 11,
   "metadata": {},
   "outputs": [
    {
     "data": {
      "text/plain": [
       "(59, 39)"
      ]
     },
     "execution_count": 11,
     "metadata": {},
     "output_type": "execute_result"
    }
   ],
   "source": [
    "tiles.level_tiles[level]"
   ]
  },
  {
   "cell_type": "code",
   "execution_count": 12,
   "metadata": {
    "collapsed": true
   },
   "outputs": [],
   "source": [
    "def fetch_regions(image_id):\n",
    "    path = json_dir + str(image_id)\n",
    "    \n",
    "    regions, region_labels = [], []\n",
    "    try:\n",
    "        with open(path + \"_EP.json\") as f_:\n",
    "            data = json.load(f_)\n",
    "        # Downsample regions before saving\n",
    "        # print(\"Found \", len(data), \"regions in EP file.\")\n",
    "        \n",
    "        data_ = np.array([np.array(xi) for xi in data])\n",
    "        for d in data_:\n",
    "            region_labels.append(\"EP\")\n",
    "            regions.append(np.multiply(np.array(d), 1.0/annotation_downsample))\n",
    "            \n",
    "    except(FileNotFoundError, IOError):\n",
    "        print(\"No EP file available for \" + str(image_id))\n",
    "    try:\n",
    "        with open(path + \"_SM.json\") as f_:\n",
    "            data = json.load(f_)\n",
    "        # Downsample regions before saving\n",
    "        # print(\"Found \", len(data), \"regions in SM file.\")        \n",
    "        \n",
    "        data_ = np.array([np.array(xi) for xi in data])\n",
    "        for d in data_:\n",
    "            region_labels.append(\"SM\")\n",
    "            regions.append(np.multiply(np.array(d), 1.0/annotation_downsample))\n",
    "            \n",
    "            \n",
    "    except(FileNotFoundError, IOError):\n",
    "        print(\"No SM file available for \" + str(image_id))\n",
    "\n",
    "    return regions, region_labels\n",
    "\n",
    "def generate_label(polys, region_labels, point):\n",
    "    # regions = array of vertices (all_coords)\n",
    "    # point [x, y]\n",
    "    \n",
    "    # see if point is in any of regions provided\n",
    "    for i in range(len(region_labels)): \n",
    "        if polys[i].contains(Point(point[0], point[1])):\n",
    "            return label_map[region_labels[i]]\n",
    "    else:\n",
    "        return -1 # not in any of the regions - unknown label"
   ]
  },
  {
   "cell_type": "code",
   "execution_count": 13,
   "metadata": {},
   "outputs": [
    {
     "data": {
      "text/plain": [
       "'/Users/ysbecca/ysbecca-projects/bcsp-expert/data/wsi_samples/101527_EP.json'"
      ]
     },
     "execution_count": 13,
     "metadata": {},
     "output_type": "execute_result"
    }
   ],
   "source": [
    "json_dir + str(image_id) + \"_EP.json\""
   ]
  },
  {
   "cell_type": "code",
   "execution_count": 14,
   "metadata": {
    "scrolled": true
   },
   "outputs": [
    {
     "name": "stdout",
     "output_type": "stream",
     "text": [
      "x tiles: 59 and y tiles: 39\n",
      "Time usage: 0:01:24\n"
     ]
    }
   ],
   "source": [
    "start_time = start_timer()\n",
    "\n",
    "x_tiles, y_tiles = tiles.level_tiles[level]\n",
    "\n",
    "print(\"x tiles:\", x_tiles, \"and y tiles:\", y_tiles)\n",
    "\n",
    "x, y = 0, 0\n",
    "count = 0\n",
    "patches, coords, labels = [], [], []\n",
    "\n",
    "regions, region_labels = fetch_regions(image_id)\n",
    "polys = [Polygon(r) for r in regions]\n",
    "\n",
    "while y < y_tiles:\n",
    "    while x < x_tiles:\n",
    "        new_tile = np.array(tiles.get_tile(level, (x, y)), dtype=np.uint8)\n",
    "        new_tile = imresize(new_tile, (new_patch_dim, new_patch_dim))\n",
    "        \n",
    "        # OpenSlide calculates overlap in such a way that sometimes depending on the dimensions, edge \n",
    "        # patches are smaller than the others. We will ignore such patches.\n",
    "        if np.shape(new_tile) == (new_patch_dim, new_patch_dim, 3):\n",
    "            patches.append(new_tile)\n",
    "            coords.append(np.array([x, y]))\n",
    "            count += 1\n",
    "\n",
    "            # Calculate the patch label based on centre point.\n",
    "            point = tiles.get_tile_coordinates(level, (x, y))[0]\n",
    " \n",
    "            point_ = (point[0]/annotation_downsample, point[1]/annotation_downsample)\n",
    "            labels.append(generate_label(polys, region_labels, point_))\n",
    "            \n",
    "        x += 1\n",
    "    y += 1\n",
    "    x = 0\n",
    "\n",
    "end_timer(start_time)\n"
   ]
  },
  {
   "cell_type": "code",
   "execution_count": 17,
   "metadata": {},
   "outputs": [
    {
     "name": "stdout",
     "output_type": "stream",
     "text": [
      "(2301, 16, 16, 3)\n",
      "(2301, 2)\n",
      "(2301,)\n"
     ]
    }
   ],
   "source": [
    "print(np.shape(patches))\n",
    "print(np.shape(coords))\n",
    "print(np.shape(labels))"
   ]
  },
  {
   "cell_type": "markdown",
   "metadata": {},
   "source": [
    "Save patches and meta in hdf5/csv files."
   ]
  },
  {
   "cell_type": "code",
   "execution_count": 24,
   "metadata": {
    "collapsed": true
   },
   "outputs": [],
   "source": [
    "def store_hdf5(patches, dir_path, coords, labels, csv_name):\n",
    "    ''' Saves patches into hdf5 files, and meta into csv files '''\n",
    "\n",
    "    print(\"Writing csv to:\", csv_name + '.csv')\n",
    "\n",
    "    # First write meta.\n",
    "    with open(dir_path + csv_name + '.csv', 'w', newline='') as csvfile:\n",
    "        writer = csv.writer(csvfile, delimiter=' ',\n",
    "                            quotechar='|', quoting=csv.QUOTE_MINIMAL)\n",
    "        for i in range(len(labels)):\n",
    "             # Last entry is is_pseudo_label, set to 1 when labeling\n",
    "            row = [labels[i], coords[i][0], coords[i][1], 0]\n",
    "            writer.writerow(row)\n",
    "\n",
    "    print(\"Wrote csv.\")\n",
    "    file = h5py.File(dir_path + csv_name + '.h5','w')\n",
    "    print(\"Created file\", file)\n",
    "    dataset = file.create_dataset('t', np.shape(patches), h5py.h5t.STD_I32BE, data=patches, compression=\"gzip\", compression_opts=9)\n",
    "\n",
    "    print(\"===================\")\n",
    "    print(\"Meta data saved in\", csv_name + \".csv\")\n",
    "    print(\"Dataset dataspace is \" + str(dataset.shape))\n",
    "    print(\"Dataset numpy datatype is \" + str(dataset.dtype))\n",
    "    print(\"Dataset name is \" + str(dataset.name))\n",
    "    print(\"Dataset was created in the file \" + str(dataset.file))\n",
    "    print(\"===================\")\n",
    "    file.close()"
   ]
  },
  {
   "cell_type": "code",
   "execution_count": 25,
   "metadata": {},
   "outputs": [
    {
     "name": "stdout",
     "output_type": "stream",
     "text": [
      "Writing csv to: 101527_seg_P128_L13_D8.csv\n",
      "Wrote csv.\n",
      "Created file <HDF5 file \"101527_seg_P128_L13_D8.h5\" (mode r+)>\n",
      "===================\n",
      "Meta data saved in 101527_seg_P128_L13_D8.csv\n",
      "Dataset dataspace is (2301, 16, 16, 3)\n",
      "Dataset numpy datatype is >i4\n",
      "Dataset name is /t\n",
      "Dataset was created in the file <HDF5 file \"101527_seg_P128_L13_D8.h5\" (mode r+)>\n",
      "===================\n"
     ]
    }
   ],
   "source": [
    "# Store images by image_id + seg + patch_size + level + downsample_factor\n",
    "csv_name = str(image_id) + \"_seg_P\" + str(patch_size) + \"_L\" + str(level) + \"_D\" + str(downsample_factor)\n",
    "store_hdf5(patches, test_db_dir, coords, labels, csv_name)"
   ]
  },
  {
   "cell_type": "code",
   "execution_count": 26,
   "metadata": {},
   "outputs": [],
   "source": [
    "# start = 1157\n",
    "# end = 1257\n",
    "# show_labeled_patches([Image.fromarray(p, 'RGB') for p in patches[start:end]], labels[start:end])"
   ]
  },
  {
   "cell_type": "code",
   "execution_count": 27,
   "metadata": {},
   "outputs": [],
   "source": [
    "# np.where(np.array(labels) > 0)"
   ]
  },
  {
   "cell_type": "code",
   "execution_count": 32,
   "metadata": {
    "collapsed": true
   },
   "outputs": [],
   "source": [
    "def read_patches_and_meta(image_id):\n",
    "    ''' Reads num_patches patches and meta into numpy arrays. '''\n",
    "\n",
    "    csv_name = \"101527_seg_P128_L13_D8.csv\"\n",
    "    hdf_name = \"101527_seg_P128_L13_D8.h5\"\n",
    "    \n",
    "    patches_, coords_, labels_ = [], [], []\n",
    "    \n",
    "    # First read patch meta data\n",
    "    with open(test_db_dir + csv_name, newline='') as metafile:\n",
    "        reader = csv.reader(metafile, delimiter=' ', quotechar='|')\n",
    "        for i, row in enumerate(reader):\n",
    "            labels_.append(int(row[0]))\n",
    "            coords_.append([int(row[1]), int(row[2])])\n",
    "\n",
    "    # Now load the images from H5 file\n",
    "    file = h5py.File(test_db_dir + hdf_name,'r+')\n",
    "    dataset = file['/' + 't']\n",
    "    new_patches = np.array(dataset).astype('uint8')\n",
    "    for i, patch in enumerate(new_patches):\n",
    "        patches_.append(patch)\n",
    "\n",
    "    file.close()\n",
    "    return np.array(patches_), np.array(labels_), np.array(coords_)\n"
   ]
  },
  {
   "cell_type": "code",
   "execution_count": 33,
   "metadata": {},
   "outputs": [],
   "source": [
    "patches, labels, coords = read_patches_and_meta(image_id)"
   ]
  },
  {
   "cell_type": "code",
   "execution_count": 36,
   "metadata": {},
   "outputs": [
    {
     "name": "stdout",
     "output_type": "stream",
     "text": [
      "(2301, 16, 16, 3)\n",
      "(2301, 2)\n",
      "(2301,)\n"
     ]
    }
   ],
   "source": [
    "print(np.shape(patches))\n",
    "print(np.shape(coords))\n",
    "print(np.shape(labels))"
   ]
  },
  {
   "cell_type": "code",
   "execution_count": 37,
   "metadata": {},
   "outputs": [
    {
     "data": {
      "image/png": "[encoded data removed]",
      "text/plain": [
       "<matplotlib.figure.Figure at 0x10c428be0>"
      ]
     },
     "metadata": {},
     "output_type": "display_data"
    }
   ],
   "source": [
    "start = 1157\n",
    "end = 1257\n",
    "show_labeled_patches([Image.fromarray(p, 'RGB') for p in patches[start:end]], labels[start:end])"
   ]
  },
  {
   "cell_type": "code",
   "execution_count": null,
   "metadata": {
    "collapsed": true
   },
   "outputs": [],
   "source": []
  },
  {
   "cell_type": "code",
   "execution_count": null,
   "metadata": {
    "collapsed": true
   },
   "outputs": [],
   "source": []
  }
 ],
 "metadata": {
  "kernelspec": {
   "display_name": "Python 3",
   "language": "python",
   "name": "python3"
  },
  "language_info": {
   "codemirror_mode": {
    "name": "ipython",
    "version": 3
   },
   "file_extension": ".py",
   "mimetype": "text/x-python",
   "name": "python",
   "nbconvert_exporter": "python",
   "pygments_lexer": "ipython3",
   "version": "3.6.1"
  }
 },
 "nbformat": 4,
 "nbformat_minor": 2
}
